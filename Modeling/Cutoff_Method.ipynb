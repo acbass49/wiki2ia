{
 "cells": [
  {
   "cell_type": "markdown",
   "id": "98475d97-6f5f-4726-ae64-14fd508755a9",
   "metadata": {},
   "source": [
    "### Cutoff Method\n",
    "\n",
    "This is exploring instead of using a model just using cut-off values to find matches."
   ]
  },
  {
   "cell_type": "code",
   "execution_count": 1,
   "id": "e04d1cb6-f9e1-46dd-9bc3-6149c6409294",
   "metadata": {
    "tags": []
   },
   "outputs": [],
   "source": [
    "# - - - - - - - - - - - #\n",
    "# Cleaning\n",
    "# - - - - - - - - - - - #\n",
    "\n",
    "import pandas as pd\n",
    "from thefuzz import fuzz\n",
    "import numpy as np\n",
    "import seaborn as sns\n",
    "import matplotlib.pyplot as plt\n",
    "import re\n",
    "\n",
    "def get_lev_distance_or_NA(data, columns, partial = False, sort = False):\n",
    "    assert isinstance(data, pd.DataFrame)\n",
    "    assert isinstance(columns, list)\n",
    "    assert len(columns) == 2\n",
    "    #If partial is True, First column will be fully matched, Second column partially matched\n",
    "    assert isinstance(columns[0], str)\n",
    "    assert isinstance(columns[1], str)\n",
    "    \n",
    "    out = []\n",
    "    for i in range(data.shape[0]):\n",
    "        val1 = data[columns[0]].iloc[i]\n",
    "        val2 = data[columns[1]].iloc[i]\n",
    "        if pd.isna(val1) or val1 == \"\" or pd.isna(val2) or val2 == \"\":\n",
    "            out.append(np.nan)\n",
    "        else:\n",
    "            if partial and sort:\n",
    "                out.append(fuzz.partial_token_sort_ratio(val1, val2))\n",
    "            elif partial:\n",
    "                out.append(fuzz.partial_ratio(val1, val2))\n",
    "            elif sort:\n",
    "                out.append(fuzz.token_sort_ratio(val1, val2))\n",
    "            else:\n",
    "                out.append(fuzz.ratio(val1, val2))\n",
    "    return out\n",
    "\n",
    "train = pd.read_csv(\"training_set_final.csv\")\n",
    "test = pd.read_csv(\"golden_set.csv\")\n",
    "\n",
    "#lev distance for title\n",
    "train['title_match'] = get_lev_distance_or_NA(train, ['title_ia', 'title_wiki'])\n",
    "test['title_match'] = get_lev_distance_or_NA(test, ['title_ia', 'title_wiki'])\n",
    "\n",
    "# using partial matching because title_ia is usually more descriptive\n",
    "train['title_match_partial'] = get_lev_distance_or_NA(train, ['title_wiki', 'title_ia'], partial = True, sort = True)\n",
    "test['title_match_partial'] = get_lev_distance_or_NA(test, ['title_wiki', 'title_ia'], partial = True, sort = True)\n",
    "\n",
    "#for author\n",
    "train.author_ia = train.author_ia.astype('str')\n",
    "train.author_wiki = train.author_wiki.astype('str')\n",
    "\n",
    "test.author_ia = test.author_ia.astype('str')\n",
    "test.author_wiki = test.author_wiki.astype('str')\n",
    "\n",
    "for var in ['author_ia', 'author_wiki']:\n",
    "    train[var] = train[var].replace({'nan': np.nan})\n",
    "    test[var] = test[var].replace({'nan': np.nan})\n",
    "\n",
    "train['author_match'] = get_lev_distance_or_NA(train, ['author_ia', 'author_wiki'])\n",
    "test['author_match'] = get_lev_distance_or_NA(test, ['author_ia', 'author_wiki'])\n",
    "\n",
    "train['author_sort'] = get_lev_distance_or_NA(train, ['author_ia', 'author_wiki'], sort = True)\n",
    "test['author_sort'] = get_lev_distance_or_NA(test, ['author_ia', 'author_wiki'], sort = True)\n",
    "\n",
    "#for publisher\n",
    "train['publisher_match'] = get_lev_distance_or_NA(train, ['publisher_ia', 'publisher_wiki'])\n",
    "test['publisher_match'] = get_lev_distance_or_NA(test, ['publisher_ia', 'publisher_wiki'])\n",
    "\n",
    "# using partial matching because publisher_ia is usually more descriptive\n",
    "train['publisher_match_partial'] = get_lev_distance_or_NA(train, ['publisher_wiki', 'publisher_ia'], partial = True)\n",
    "test['publisher_match_partial'] = get_lev_distance_or_NA(test, ['publisher_wiki', 'publisher_ia'], partial = True)\n"
   ]
  },
  {
   "cell_type": "code",
   "execution_count": 2,
   "id": "569c2111-cda4-48a4-b0ac-e5fdc0c08fe3",
   "metadata": {
    "tags": []
   },
   "outputs": [],
   "source": [
    "#year\n",
    "def clean(string):\n",
    "    if pd.isna(string):\n",
    "        return np.nan\n",
    "    string = str(string)\n",
    "    if any(char.isdigit() for char in string) == False:\n",
    "        return np.nan\n",
    "    string = re.subn(r'\\.[0-9]+',\"\",string)[0]\n",
    "    string = re.subn(r'\\.',\"\",string)[0]\n",
    "    if string:\n",
    "        try:\n",
    "            return int(''.join(filter(str.isdigit, string)))\n",
    "        except:\n",
    "            print(string)\n",
    "    else:\n",
    "        return np.nan\n",
    "\n",
    "train.year_wiki = train.year_wiki.apply(clean)\n",
    "train.date_ia = train.date_ia.apply(clean)\n",
    "test.year_wiki = test.year_wiki.apply(clean)\n",
    "test.date_ia = test.date_ia.apply(clean)\n",
    "\n",
    "year_res = []\n",
    "for i in range(train.shape[0]):\n",
    "    val1 = train.date_ia.iloc[i]\n",
    "    val2 = train.year_wiki.iloc[i]\n",
    "    if val1 and val2:\n",
    "        year_res.append(float(val1) == float(val2))\n",
    "    else:\n",
    "        year_res.append(np.nan)\n",
    "\n",
    "train['year_match'] = year_res\n",
    "        \n",
    "year_res = []\n",
    "for i in range(test.shape[0]):\n",
    "    val1 = test.date_ia.iloc[i]\n",
    "    val2 = test.year_wiki.iloc[i]\n",
    "    if val1 and val2:\n",
    "        year_res.append(float(val1) == float(val2))\n",
    "    else:\n",
    "        year_res.append(np.nan)\n",
    "        \n",
    "test['year_match'] = year_res\n",
    "\n",
    "#year NA\n",
    "train['year_NA'] = [np.where(pd.isna(train.year_wiki.iloc[i]) or pd.isna(train.date_ia.iloc[i]), 1, 0) for i in range(train.shape[0])]\n",
    "test['year_NA'] = [np.where(pd.isna(test.year_wiki.iloc[i]) or pd.isna(test.date_ia.iloc[i]), 1, 0) for i in range(test.shape[0])]\n",
    "\n",
    "#Author NA\n",
    "train['author_NA'] = [np.where(pd.isna(train.author_ia.iloc[i]) or pd.isna(train.author_wiki.iloc[i]), 1, 0) for i in range(train.shape[0])]\n",
    "test['author_NA'] = [np.where(pd.isna(test.author_ia.iloc[i]) or pd.isna(test.author_wiki.iloc[i]), 1,0) for i in range(test.shape[0])]\n",
    "\n",
    "#Publisher NA\n",
    "train['publisher_NA'] = [np.where(pd.isna(train.publisher_ia.iloc[i]) or pd.isna(train.publisher_wiki.iloc[i]), 1, 0) for i in range(train.shape[0])]\n",
    "test['publisher_NA'] = [np.where(pd.isna(test.publisher_ia.iloc[i]) or pd.isna(test.publisher_wiki.iloc[i]), 1, 0) for i in range(test.shape[0])]\n",
    "\n",
    "#downsampling NOT NEEDED HERE\n",
    "has_match = train.groupby('query_count')['citebook_match'].transform(lambda x : any(x == 1)).to_list()\n",
    "train = train[has_match]\n",
    "\n",
    "tmp_match = train.query('citebook_match == 1')\n",
    "tmp_unmatch = train.query('citebook_match == 0') \\\n",
    "    .groupby('query_count') \\\n",
    "    .sample(1)\n",
    "train = pd.concat([tmp_match, tmp_unmatch])"
   ]
  },
  {
   "cell_type": "code",
   "execution_count": 3,
   "id": "f4d76a50-d19d-4e1d-8925-15339ca93e3d",
   "metadata": {
    "tags": []
   },
   "outputs": [
    {
     "name": "stdout",
     "output_type": "stream",
     "text": [
      "In variable year_NA, 32.7% are missing in one of the two columns(IA or WIKI)\n",
      "In variable author_NA, 34.699999999999996% are missing in one of the two columns(IA or WIKI)\n",
      "In variable publisher_NA, 11.4% are missing in one of the two columns(IA or WIKI)\n"
     ]
    }
   ],
   "source": [
    "def prop_NA(data, var):\n",
    "    print(f'In variable {var}, {round(sum(data[var])/data.shape[0], 3)*100}% are missing in one of the two columns(IA or WIKI)')\n",
    "    return None\n",
    "\n",
    "for var in ['year_NA', 'author_NA', 'publisher_NA']:\n",
    "    prop_NA(train, var)"
   ]
  },
  {
   "cell_type": "code",
   "execution_count": 4,
   "id": "20dcd6e4-1bcd-4fac-81d7-800d5a871789",
   "metadata": {
    "tags": []
   },
   "outputs": [
    {
     "data": {
      "text/plain": [
       "0    0.95122\n",
       "1    0.04878\n",
       "Name: citebook_match, dtype: float64"
      ]
     },
     "execution_count": 4,
     "metadata": {},
     "output_type": "execute_result"
    }
   ],
   "source": [
    "train.citebook_match.value_counts()/train.shape[0]"
   ]
  },
  {
   "cell_type": "code",
   "execution_count": 5,
   "id": "e1f59662-cf2d-4f9b-a71f-4138073255de",
   "metadata": {
    "tags": []
   },
   "outputs": [
    {
     "data": {
      "text/plain": [
       "0    673\n",
       "1     84\n",
       "Name: citebook_match, dtype: int64"
      ]
     },
     "execution_count": 5,
     "metadata": {},
     "output_type": "execute_result"
    }
   ],
   "source": [
    "test.citebook_match.value_counts()"
   ]
  },
  {
   "cell_type": "code",
   "execution_count": 6,
   "id": "d28e19e4-43ed-47a4-8441-dc29669e64eb",
   "metadata": {
    "tags": []
   },
   "outputs": [
    {
     "data": {
      "text/plain": [
       "0.9764705882352941"
      ]
     },
     "execution_count": 6,
     "metadata": {},
     "output_type": "execute_result"
    }
   ],
   "source": [
    "83/85"
   ]
  },
  {
   "cell_type": "markdown",
   "id": "0b34d1b5-aeff-476c-b1bf-7e55c36ad5cf",
   "metadata": {},
   "source": [
    "#### First I want to make some histograms of matches by distance"
   ]
  },
  {
   "cell_type": "code",
   "execution_count": 7,
   "id": "b6aaa170-8098-4036-8623-fa88171c78a7",
   "metadata": {
    "tags": []
   },
   "outputs": [
    {
     "data": {
      "text/plain": [
       "[Text(0.5, 1.0, 'Distance of Titles by Link Matches')]"
      ]
     },
     "execution_count": 7,
     "metadata": {},
     "output_type": "execute_result"
    },
    {
     "data": {
      "image/png": "[encoded data removed]",
      "text/plain": [
       "<Figure size 640x480 with 1 Axes>"
      ]
     },
     "metadata": {},
     "output_type": "display_data"
    }
   ],
   "source": [
    "%matplotlib inline\n",
    "sns.histplot(data=train, x=\"title_match\", hue=\"citebook_match\", binwidth = 1).set(title='Distance of Titles by Link Matches')"
   ]
  },
  {
   "cell_type": "code",
   "execution_count": 8,
   "id": "c75484ef-ba39-465b-8907-b6ea82c1a3d7",
   "metadata": {},
   "outputs": [
    {
     "data": {
      "text/plain": [
       "[Text(0.5, 1.0, 'Distance of Titles by Link Matches')]"
      ]
     },
     "execution_count": 8,
     "metadata": {},
     "output_type": "execute_result"
    },
    {
     "data": {
      "image/png": "[encoded data removed]",
      "text/plain": [
       "<Figure size 640x480 with 1 Axes>"
      ]
     },
     "metadata": {},
     "output_type": "display_data"
    }
   ],
   "source": [
    "sns.histplot(data=train, x=\"title_match_partial\", hue=\"citebook_match\", binwidth = 1).set(title='Distance of Titles by Link Matches')"
   ]
  },
  {
   "cell_type": "code",
   "execution_count": 9,
   "id": "13e9bd3a-fc5b-4626-9110-ed40d6c4b86e",
   "metadata": {},
   "outputs": [
    {
     "data": {
      "text/plain": [
       "[Text(0.5, 1.0, 'Distance of Titles of Matches ONLY')]"
      ]
     },
     "execution_count": 9,
     "metadata": {},
     "output_type": "execute_result"
    },
    {
     "data": {
      "image/png": "[encoded data removed]",
      "text/plain": [
       "<Figure size 640x480 with 1 Axes>"
      ]
     },
     "metadata": {},
     "output_type": "display_data"
    }
   ],
   "source": [
    "sns.histplot(data=train.query('citebook_match == 1'), x=\"title_match\", binwidth = 1).set(title='Distance of Titles of Matches ONLY')"
   ]
  },
  {
   "cell_type": "code",
   "execution_count": 10,
   "id": "c1123d9a-ff05-494d-a71c-c3215e1ab2fb",
   "metadata": {
    "tags": []
   },
   "outputs": [
    {
     "data": {
      "text/plain": [
       "[Text(0.5, 1.0, 'Distance of Titles of Matches ONLY')]"
      ]
     },
     "execution_count": 10,
     "metadata": {},
     "output_type": "execute_result"
    },
    {
     "data": {
      "image/png": "[encoded data removed]",
      "text/plain": [
       "<Figure size 640x480 with 1 Axes>"
      ]
     },
     "metadata": {},
     "output_type": "display_data"
    }
   ],
   "source": [
    "sns.histplot(data=train.query('citebook_match == 1'), x=\"title_match_partial\", binwidth = 1).set(title='Distance of Titles of Matches ONLY')"
   ]
  },
  {
   "cell_type": "code",
   "execution_count": 11,
   "id": "dc83f80f-420c-4262-bd05-be83078e021d",
   "metadata": {
    "tags": []
   },
   "outputs": [
    {
     "data": {
      "text/plain": [
       "count    64159.000000\n",
       "mean        97.098147\n",
       "std          8.628416\n",
       "min         45.000000\n",
       "25%        100.000000\n",
       "50%        100.000000\n",
       "75%        100.000000\n",
       "max        100.000000\n",
       "Name: title_match_partial, dtype: float64"
      ]
     },
     "execution_count": 11,
     "metadata": {},
     "output_type": "execute_result"
    }
   ],
   "source": [
    "train.query('citebook_match == 1').title_match_partial.describe()"
   ]
  },
  {
   "cell_type": "code",
   "execution_count": 12,
   "id": "8e7929dd-ff62-49af-b966-dcf42accc3c1",
   "metadata": {
    "tags": []
   },
   "outputs": [
    {
     "name": "stdout",
     "output_type": "stream",
     "text": [
      "0 : 45.0\n",
      "1 : 61.0\n",
      "2 : 64.0\n",
      "3 : 68.0\n",
      "4 : 70.0\n",
      "5 : 73.0\n",
      "6 : 76.0\n",
      "7 : 78.0\n",
      "8 : 81.0\n",
      "9 : 85.0\n",
      "10 : 88.0\n",
      "11 : 93.0\n",
      "12 : 96.0\n",
      "13 : 100.0\n",
      "14 : 100.0\n",
      "15 : 100.0\n",
      "16 : 100.0\n",
      "17 : 100.0\n",
      "18 : 100.0\n",
      "19 : 100.0\n",
      "20 : 100.0\n",
      "21 : 100.0\n",
      "22 : 100.0\n",
      "23 : 100.0\n",
      "24 : 100.0\n",
      "25 : 100.0\n",
      "26 : 100.0\n",
      "27 : 100.0\n",
      "28 : 100.0\n",
      "29 : 100.0\n"
     ]
    }
   ],
   "source": [
    "for i in range(0,30):\n",
    "    print(f\"{i} : {np.percentile(train.query('citebook_match == 1').title_match_partial,i)}\")"
   ]
  },
  {
   "cell_type": "code",
   "execution_count": 13,
   "id": "0b9e7b87-57f9-41ce-9b1e-5ce8ee20cba3",
   "metadata": {
    "tags": []
   },
   "outputs": [
    {
     "name": "stdout",
     "output_type": "stream",
     "text": [
      "0 : 9.0\n",
      "1 : 33.58000000000004\n",
      "2 : 39.0\n",
      "3 : 44.0\n",
      "4 : 47.0\n",
      "5 : 52.0\n",
      "6 : 57.0\n",
      "7 : 61.0\n",
      "8 : 67.0\n",
      "9 : 72.0\n",
      "10 : 79.0\n",
      "11 : 84.0\n",
      "12 : 88.0\n",
      "13 : 92.0\n",
      "14 : 94.0\n",
      "15 : 96.0\n",
      "16 : 96.0\n",
      "17 : 97.0\n",
      "18 : 97.0\n",
      "19 : 98.0\n",
      "20 : 98.0\n",
      "21 : 98.0\n",
      "22 : 98.0\n",
      "23 : 98.0\n",
      "24 : 98.0\n",
      "25 : 99.0\n",
      "26 : 99.0\n",
      "27 : 99.0\n",
      "28 : 99.0\n",
      "29 : 99.0\n"
     ]
    }
   ],
   "source": [
    "for i in range(0,30):\n",
    "    print(f\"{i} : {np.percentile(train.query('citebook_match == 1').title_match,i)}\")"
   ]
  },
  {
   "cell_type": "code",
   "execution_count": 14,
   "id": "d0563d76-2439-47b0-8f5b-3f929c5f315c",
   "metadata": {
    "tags": []
   },
   "outputs": [],
   "source": [
    "train.query('citebook_match == 1 and title_match_partial < 90').to_csv('investigation.csv')"
   ]
  },
  {
   "cell_type": "code",
   "execution_count": 15,
   "id": "66f9be60-b5f2-43f6-8b74-5f17b964d6f6",
   "metadata": {},
   "outputs": [
    {
     "data": {
      "text/plain": [
       "count    64159.000000\n",
       "mean        94.168160\n",
       "std         14.878291\n",
       "min          9.000000\n",
       "25%         99.000000\n",
       "50%         99.000000\n",
       "75%        100.000000\n",
       "max        100.000000\n",
       "Name: title_match, dtype: float64"
      ]
     },
     "execution_count": 15,
     "metadata": {},
     "output_type": "execute_result"
    }
   ],
   "source": [
    "train.query('citebook_match == 1').title_match.describe()"
   ]
  },
  {
   "cell_type": "code",
   "execution_count": 16,
   "id": "bc4a9861-7c70-4968-a666-ea4af249c9f3",
   "metadata": {},
   "outputs": [
    {
     "data": {
      "text/plain": [
       "count    1.251101e+06\n",
       "mean     5.044278e+01\n",
       "std      2.540607e+01\n",
       "min      1.000000e+00\n",
       "25%      3.300000e+01\n",
       "50%      4.200000e+01\n",
       "75%      6.400000e+01\n",
       "max      1.000000e+02\n",
       "Name: title_match, dtype: float64"
      ]
     },
     "execution_count": 16,
     "metadata": {},
     "output_type": "execute_result"
    }
   ],
   "source": [
    "train.query('citebook_match == 0').title_match.describe()"
   ]
  },
  {
   "cell_type": "code",
   "execution_count": 17,
   "id": "40b3df2e-fe7c-4e02-b10a-863b5a6a0858",
   "metadata": {
    "tags": []
   },
   "outputs": [
    {
     "data": {
      "text/plain": [
       "[Text(0.5, 1.0, 'Distance of Authors by Link Matches')]"
      ]
     },
     "execution_count": 17,
     "metadata": {},
     "output_type": "execute_result"
    },
    {
     "data": {
      "image/png": "[encoded data removed]",
      "text/plain": [
       "<Figure size 640x480 with 1 Axes>"
      ]
     },
     "metadata": {},
     "output_type": "display_data"
    }
   ],
   "source": [
    "sns.histplot(data=train, x=\"author_match\", hue=\"citebook_match\", binwidth = 1).set(title='Distance of Authors by Link Matches')"
   ]
  },
  {
   "cell_type": "code",
   "execution_count": 18,
   "id": "fa36f98e-3b63-48c2-9c45-1c5c9eb7cd75",
   "metadata": {},
   "outputs": [
    {
     "data": {
      "text/plain": [
       "[Text(0.5, 1.0, 'Distance of Authors by Link Matches')]"
      ]
     },
     "execution_count": 18,
     "metadata": {},
     "output_type": "execute_result"
    },
    {
     "data": {
      "image/png": "[encoded data removed]",
      "text/plain": [
       "<Figure size 640x480 with 1 Axes>"
      ]
     },
     "metadata": {},
     "output_type": "display_data"
    }
   ],
   "source": [
    "sns.histplot(data=train, x=\"author_sort\", hue=\"citebook_match\", binwidth = 1).set(title='Distance of Authors by Link Matches')"
   ]
  },
  {
   "cell_type": "code",
   "execution_count": 19,
   "id": "6627edb2-b85e-4f8f-b277-275b2430254a",
   "metadata": {
    "tags": []
   },
   "outputs": [
    {
     "data": {
      "text/plain": [
       "count    50121.000000\n",
       "mean        83.398655\n",
       "std         22.318486\n",
       "min          0.000000\n",
       "25%         67.000000\n",
       "50%         97.000000\n",
       "75%        100.000000\n",
       "max        100.000000\n",
       "Name: author_match, dtype: float64"
      ]
     },
     "execution_count": 19,
     "metadata": {},
     "output_type": "execute_result"
    }
   ],
   "source": [
    "train.query('citebook_match == 1').author_match.describe()"
   ]
  },
  {
   "cell_type": "code",
   "execution_count": 20,
   "id": "d9b06e31-a6e2-4575-844e-3030572147b9",
   "metadata": {
    "tags": []
   },
   "outputs": [
    {
     "data": {
      "text/plain": [
       "count    808590.000000\n",
       "mean         37.760390\n",
       "std          22.156706\n",
       "min           0.000000\n",
       "25%          25.000000\n",
       "50%          31.000000\n",
       "75%          39.000000\n",
       "max         100.000000\n",
       "Name: author_match, dtype: float64"
      ]
     },
     "execution_count": 20,
     "metadata": {},
     "output_type": "execute_result"
    }
   ],
   "source": [
    "train.query('citebook_match == 0').author_match.describe()"
   ]
  },
  {
   "cell_type": "code",
   "execution_count": 21,
   "id": "84a7831c-3498-4c57-9a2a-bf6cd5962f0c",
   "metadata": {
    "tags": []
   },
   "outputs": [
    {
     "data": {
      "text/plain": [
       "[Text(0.5, 1.0, 'Distance of Authors of Matches ONLY')]"
      ]
     },
     "execution_count": 21,
     "metadata": {},
     "output_type": "execute_result"
    },
    {
     "data": {
      "image/png": "[encoded data removed]",
      "text/plain": [
       "<Figure size 640x480 with 1 Axes>"
      ]
     },
     "metadata": {},
     "output_type": "display_data"
    }
   ],
   "source": [
    "sns.histplot(data=train.query('citebook_match == 1'), x=\"author_match\", binwidth = 1).set(title='Distance of Authors of Matches ONLY')"
   ]
  },
  {
   "cell_type": "code",
   "execution_count": 22,
   "id": "6950a29a-ea21-4f28-8bf1-4761d52a6997",
   "metadata": {
    "tags": []
   },
   "outputs": [
    {
     "data": {
      "text/plain": [
       "[Text(0.5, 1.0, 'Distance of Authors of Matches ONLY')]"
      ]
     },
     "execution_count": 22,
     "metadata": {},
     "output_type": "execute_result"
    },
    {
     "data": {
      "image/png": "[encoded data removed]",
      "text/plain": [
       "<Figure size 640x480 with 1 Axes>"
      ]
     },
     "metadata": {},
     "output_type": "display_data"
    }
   ],
   "source": [
    "sns.histplot(data=train.query('citebook_match == 1'), x=\"author_sort\", binwidth = 1).set(title='Distance of Authors of Matches ONLY')"
   ]
  },
  {
   "cell_type": "code",
   "execution_count": 23,
   "id": "9e7dbcde-e9df-4b80-9c19-3634ea1f8910",
   "metadata": {
    "tags": []
   },
   "outputs": [
    {
     "data": {
      "text/plain": [
       "[Text(0.5, 1.0, 'Distance of Publishers by Link Matches')]"
      ]
     },
     "execution_count": 23,
     "metadata": {},
     "output_type": "execute_result"
    },
    {
     "data": {
      "image/png": "[encoded data removed]",
      "text/plain": [
       "<Figure size 640x480 with 1 Axes>"
      ]
     },
     "metadata": {},
     "output_type": "display_data"
    }
   ],
   "source": [
    "sns.histplot(data=train, x=\"publisher_match\", hue=\"citebook_match\", binwidth = 1).set(title='Distance of Publishers by Link Matches')"
   ]
  },
  {
   "cell_type": "code",
   "execution_count": 24,
   "id": "646b618f-b6cc-4131-87df-af47a5961727",
   "metadata": {
    "tags": []
   },
   "outputs": [
    {
     "data": {
      "text/plain": [
       "[Text(0.5, 1.0, 'Distance of Publishers by Link Matches')]"
      ]
     },
     "execution_count": 24,
     "metadata": {},
     "output_type": "execute_result"
    },
    {
     "data": {
      "image/png": "[encoded data removed]",
      "text/plain": [
       "<Figure size 640x480 with 1 Axes>"
      ]
     },
     "metadata": {},
     "output_type": "display_data"
    }
   ],
   "source": [
    "sns.histplot(data=train, x=\"publisher_match_partial\", hue=\"citebook_match\", binwidth = 1).set(title='Distance of Publishers by Link Matches')"
   ]
  },
  {
   "cell_type": "code",
   "execution_count": 25,
   "id": "57e3d7a8-df16-4a43-bf11-f0813ecde012",
   "metadata": {
    "tags": []
   },
   "outputs": [
    {
     "data": {
      "image/png": "[encoded data removed]",
      "text/plain": [
       "<Figure size 640x480 with 2 Axes>"
      ]
     },
     "metadata": {},
     "output_type": "display_data"
    }
   ],
   "source": [
    "fig, ax = plt.subplots(1, 2)\n",
    "sns.histplot(data=train.query('citebook_match == 1'), x=\"publisher_match_partial\", binwidth = 1, ax = ax[1])\n",
    "sns.histplot(data=train.query('citebook_match == 1'), x=\"publisher_match\", binwidth = 1, ax = ax[0])\n",
    "plt.suptitle(\"Partial Matching Greatly Improved Publisher Matching (Only Matches)\")\n",
    "fig.tight_layout()\n",
    "plt.show()"
   ]
  },
  {
   "cell_type": "code",
   "execution_count": 26,
   "id": "3667ae7d-6e45-4843-8950-f931c1215195",
   "metadata": {
    "tags": []
   },
   "outputs": [
    {
     "data": {
      "image/png": "[encoded data removed]",
      "text/plain": [
       "<Figure size 640x480 with 2 Axes>"
      ]
     },
     "metadata": {},
     "output_type": "display_data"
    }
   ],
   "source": [
    "fig, ax = plt.subplots(1, 2)\n",
    "sns.histplot(data=train.query('citebook_match == 0'), x=\"publisher_match_partial\", binwidth = 1, ax = ax[1])\n",
    "sns.histplot(data=train.query('citebook_match == 0'), x=\"publisher_match\", binwidth = 1, ax = ax[0])\n",
    "plt.suptitle(\"...While Non-matchs Remain Similar (Only NonMatches)\")\n",
    "fig.tight_layout()\n",
    "plt.show()"
   ]
  },
  {
   "cell_type": "code",
   "execution_count": 27,
   "id": "45ed57bf-3c30-41b7-9b60-02e913780af0",
   "metadata": {
    "tags": []
   },
   "outputs": [
    {
     "data": {
      "text/plain": [
       "[Text(0.5, 1.0, 'Distance of Publishers by Link Matches')]"
      ]
     },
     "execution_count": 27,
     "metadata": {},
     "output_type": "execute_result"
    },
    {
     "data": {
      "image/png": "[encoded data removed]",
      "text/plain": [
       "<Figure size 640x480 with 1 Axes>"
      ]
     },
     "metadata": {},
     "output_type": "display_data"
    }
   ],
   "source": [
    "sns.histplot(data=train.query('citebook_match == 1'), x=\"publisher_match_partial\", hue=\"citebook_match\", binwidth = 1).set(title='Distance of Publishers by Link Matches')"
   ]
  },
  {
   "cell_type": "code",
   "execution_count": 28,
   "id": "c22ee7a3-abf2-4a59-baf9-651eb5113fa3",
   "metadata": {},
   "outputs": [
    {
     "data": {
      "text/plain": [
       "[Text(0.5, 1.0, 'Distance of Publishers ONLY')]"
      ]
     },
     "execution_count": 28,
     "metadata": {},
     "output_type": "execute_result"
    },
    {
     "data": {
      "image/png": "[encoded data removed]",
      "text/plain": [
       "<Figure size 640x480 with 1 Axes>"
      ]
     },
     "metadata": {},
     "output_type": "display_data"
    }
   ],
   "source": [
    "sns.histplot(data=train.query('citebook_match == 1'), x=\"publisher_match\").set(title='Distance of Publishers ONLY')"
   ]
  },
  {
   "cell_type": "code",
   "execution_count": 29,
   "id": "0c6ce4c4-b675-4445-b43f-666fead5f57f",
   "metadata": {
    "tags": []
   },
   "outputs": [
    {
     "name": "stdout",
     "output_type": "stream",
     "text": [
      "0 : 0.0\n",
      "5 : 33.0\n",
      "10 : 46.0\n",
      "15 : 57.0\n",
      "20 : 73.0\n",
      "25 : 88.0\n",
      "30 : 98.0\n",
      "35 : 100.0\n",
      "40 : 100.0\n",
      "45 : 100.0\n",
      "50 : 100.0\n",
      "55 : 100.0\n",
      "60 : 100.0\n",
      "65 : 100.0\n",
      "70 : 100.0\n",
      "75 : 100.0\n",
      "80 : 100.0\n",
      "85 : 100.0\n",
      "90 : 100.0\n",
      "95 : 100.0\n",
      "100 : 100.0\n"
     ]
    }
   ],
   "source": [
    "for i in range(0,101,5):\n",
    "    print(f\"{i} : {np.percentile(train.query('citebook_match == 1').dropna().publisher_match_partial,i)}\")"
   ]
  },
  {
   "cell_type": "code",
   "execution_count": 30,
   "id": "30609bd7-c211-41c0-8199-dffeb2677c36",
   "metadata": {
    "tags": []
   },
   "outputs": [
    {
     "name": "stdout",
     "output_type": "stream",
     "text": [
      "0 : 0.0\n",
      "5 : 25.0\n",
      "10 : 32.0\n",
      "15 : 38.0\n",
      "20 : 43.0\n",
      "25 : 48.0\n",
      "30 : 52.0\n",
      "35 : 55.0\n",
      "40 : 59.0\n",
      "45 : 62.0\n",
      "50 : 65.0\n",
      "55 : 68.0\n",
      "60 : 70.0\n",
      "65 : 72.0\n",
      "70 : 74.0\n",
      "75 : 77.0\n",
      "80 : 79.0\n",
      "85 : 81.0\n",
      "90 : 84.0\n",
      "95 : 89.0\n",
      "100 : 100.0\n"
     ]
    }
   ],
   "source": [
    "for i in range(0,101,5):\n",
    "    print(f\"{i} : {np.percentile(train.query('citebook_match == 1').dropna().publisher_match,i)}\")"
   ]
  },
  {
   "cell_type": "code",
   "execution_count": 31,
   "id": "8f610b0e-8a98-4d5d-893c-c0e146cf56b2",
   "metadata": {},
   "outputs": [
    {
     "data": {
      "text/plain": [
       "count    61578.000000\n",
       "mean        62.528403\n",
       "std         20.013685\n",
       "min          0.000000\n",
       "25%         49.000000\n",
       "50%         66.000000\n",
       "75%         77.000000\n",
       "max        100.000000\n",
       "Name: publisher_match, dtype: float64"
      ]
     },
     "execution_count": 31,
     "metadata": {},
     "output_type": "execute_result"
    }
   ],
   "source": [
    "train.query('citebook_match == 1').publisher_match.describe()"
   ]
  },
  {
   "cell_type": "code",
   "execution_count": 32,
   "id": "20bb76b0-d382-40d4-92d6-c7d91c35ecbf",
   "metadata": {},
   "outputs": [
    {
     "data": {
      "text/plain": [
       "count    1.103699e+06\n",
       "mean     3.027641e+01\n",
       "std      1.656805e+01\n",
       "min      0.000000e+00\n",
       "25%      2.000000e+01\n",
       "50%      2.600000e+01\n",
       "75%      3.400000e+01\n",
       "max      1.000000e+02\n",
       "Name: publisher_match, dtype: float64"
      ]
     },
     "execution_count": 32,
     "metadata": {},
     "output_type": "execute_result"
    }
   ],
   "source": [
    "train.query('citebook_match == 0').publisher_match.describe()"
   ]
  },
  {
   "cell_type": "code",
   "execution_count": 33,
   "id": "e0c57897-ad26-4f0f-a3df-e4a1d1d6eaa6",
   "metadata": {
    "tags": []
   },
   "outputs": [
    {
     "data": {
      "text/html": [
       "<div>\n",
       "<style scoped>\n",
       "    .dataframe tbody tr th:only-of-type {\n",
       "        vertical-align: middle;\n",
       "    }\n",
       "\n",
       "    .dataframe tbody tr th {\n",
       "        vertical-align: top;\n",
       "    }\n",
       "\n",
       "    .dataframe thead th {\n",
       "        text-align: right;\n",
       "    }\n",
       "</style>\n",
       "<table border=\"1\" class=\"dataframe\">\n",
       "  <thead>\n",
       "    <tr style=\"text-align: right;\">\n",
       "      <th>year_match</th>\n",
       "      <th>False</th>\n",
       "      <th>True</th>\n",
       "    </tr>\n",
       "    <tr>\n",
       "      <th>citebook_match</th>\n",
       "      <th></th>\n",
       "      <th></th>\n",
       "    </tr>\n",
       "  </thead>\n",
       "  <tbody>\n",
       "    <tr>\n",
       "      <th>0</th>\n",
       "      <td>1193047</td>\n",
       "      <td>58054</td>\n",
       "    </tr>\n",
       "    <tr>\n",
       "      <th>1</th>\n",
       "      <td>22844</td>\n",
       "      <td>41315</td>\n",
       "    </tr>\n",
       "  </tbody>\n",
       "</table>\n",
       "</div>"
      ],
      "text/plain": [
       "year_match        False  True \n",
       "citebook_match                \n",
       "0               1193047  58054\n",
       "1                 22844  41315"
      ]
     },
     "execution_count": 33,
     "metadata": {},
     "output_type": "execute_result"
    }
   ],
   "source": [
    "pd.crosstab(train.citebook_match, train.year_match)"
   ]
  },
  {
   "cell_type": "markdown",
   "id": "5ca14100-e18e-4eba-add9-1890cdf9514b",
   "metadata": {},
   "source": [
    "#### I want to look at the examples of various lev distances"
   ]
  },
  {
   "cell_type": "code",
   "execution_count": 26,
   "id": "07d5b3c1-32ac-4ee6-a0de-2863d29914e1",
   "metadata": {
    "tags": []
   },
   "outputs": [],
   "source": [
    "train.query('author_match == 100').to_csv('investigation.csv', index = False)"
   ]
  },
  {
   "cell_type": "code",
   "execution_count": 52,
   "id": "86d94917-f422-4e0b-a375-14bd11fcf40c",
   "metadata": {},
   "outputs": [
    {
     "name": "stdout",
     "output_type": "stream",
     "text": [
      "0.02169228897708438\n",
      "0.018629016316165627\n"
     ]
    }
   ],
   "source": [
    "print(sum(train.query('citebook_match == 1').author_sort == 100)/train.shape[0])\n",
    "print(sum(train.query('citebook_match == 1').author_match == 100)/train.shape[0])"
   ]
  },
  {
   "cell_type": "code",
   "execution_count": 53,
   "id": "c45d85f4",
   "metadata": {},
   "outputs": [
    {
     "name": "stdout",
     "output_type": "stream",
     "text": [
      "86.50230442329563\n",
      "83.39865525428463\n"
     ]
    }
   ],
   "source": [
    "print(train.query('citebook_match == 1').author_sort.mean())\n",
    "print(train.query('citebook_match == 1').author_match.mean())"
   ]
  },
  {
   "cell_type": "code",
   "execution_count": 55,
   "id": "44e0c6ce",
   "metadata": {},
   "outputs": [
    {
     "name": "stdout",
     "output_type": "stream",
     "text": [
      "38.367580603272366\n",
      "37.760390309056504\n"
     ]
    }
   ],
   "source": [
    "print(train.query('citebook_match == 0').author_sort.mean())\n",
    "print(train.query('citebook_match == 0').author_match.mean())"
   ]
  },
  {
   "cell_type": "markdown",
   "id": "0ddbf40a-fd14-4873-ae49-915650423aa0",
   "metadata": {},
   "source": [
    "### Method:\n",
    "We're going to use an algorithm that we construct that takes into account the different lev distances and missingness of those lev distances\n",
    "\n",
    "### Evaluation:\n",
    "There are two metrics we care about in this study:\n",
    "1. How many that we guessed right are actually wrong? - precision\n",
    "2. Of all the possible True positives, how many did we miss?\n",
    "\n",
    "To calculate this we just need 2 columns: actual and predicted"
   ]
  },
  {
   "cell_type": "code",
   "execution_count": 4,
   "id": "067a68d2-34ff-49c1-b009-47da7c40e1fe",
   "metadata": {},
   "outputs": [],
   "source": [
    "def get_metrics(data):\n",
    "    data = data[['citebook_match', 'predicted']]\n",
    "    metric1 = round((data.query(\"citebook_match == 1 and predicted == 1\").shape[0] / data.query(\"predicted == 1\").shape[0]*100), 3)\n",
    "    metric2 = round((data.query(\"citebook_match == 1 and predicted == 1\").shape[0] / data.query(\"citebook_match == 1\").shape[0]*100), 3)\n",
    "    metric3 = round((data.query(\"predicted == 0\").shape[0] / data.shape[0]*100), 3)\n",
    "    metric4 = round((np.sum(data.predicted == data.citebook_match)/data.shape[0]*100),3)\n",
    "    print(f'Of all predicted true, {metric1}% are correctly predicted true.')\n",
    "    print(f'Of all possible true, {metric2}% are correctly predicted true.')\n",
    "    print(f'accuracy is {metric4}%')\n",
    "    print(f'Reduced data set by {metric3}%')\n",
    "    return metric1, metric2, metric3, metric4"
   ]
  },
  {
   "cell_type": "code",
   "execution_count": 5,
   "id": "be4c6d7a-0ce2-47b6-b902-700d7dd53d89",
   "metadata": {
    "tags": []
   },
   "outputs": [],
   "source": [
    "def cutoff_algo(row, title_cutoff, author_cutoff, publisher_cutoff, use_year = True):\n",
    "    author = (author_cutoff != None) and (not pd.isna(row['author_match']))\n",
    "    publisher = (publisher_cutoff != None) and (not pd.isna(row['publisher_match']))\n",
    "    \n",
    "    title_val = row['title_match']\n",
    "    author_val = row['author_match']\n",
    "    publisher_val = row['publisher_match']\n",
    "    year_val = row['year_match']\n",
    "    \n",
    "    title_pass = title_val >= title_cutoff\n",
    "    \n",
    "    if author:\n",
    "        if author_val >= author_cutoff:\n",
    "            author_pass = True\n",
    "        else:\n",
    "            author_pass =  False\n",
    "    else:\n",
    "        author_pass = True\n",
    "        \n",
    "    if publisher:\n",
    "        if publisher_val >= publisher_cutoff:\n",
    "            publisher_pass = True\n",
    "        else:\n",
    "            publisher_pass =  False\n",
    "    else:\n",
    "        publisher_pass = True\n",
    "    \n",
    "    if use_year is False:\n",
    "        year_pass = True\n",
    "    elif pd.isna(year_val):\n",
    "        year_pass = True\n",
    "    else:\n",
    "        year_pass = year_val\n",
    "    \n",
    "    if title_pass and author_pass and publisher_pass and year_pass:\n",
    "        return 1\n",
    "    else:\n",
    "        return 0"
   ]
  },
  {
   "cell_type": "code",
   "execution_count": 6,
   "id": "5e58e806-8fa9-4caa-9cee-ff651546bd16",
   "metadata": {
    "tags": []
   },
   "outputs": [
    {
     "name": "stdout",
     "output_type": "stream",
     "text": [
      "train\n",
      "Of all predicted true, 19.85% are correctly predicted true.\n",
      "Of all possible true, 44.694% are correctly predicted true.\n",
      "accuracy is 88.499\n",
      "Reduced data set by 89.017%\n",
      "test\n",
      "Of all predicted true, 61.29% are correctly predicted true.\n",
      "Of all possible true, 45.238% are correctly predicted true.\n",
      "accuracy is 90.753\n",
      "Reduced data set by 91.81%\n"
     ]
    },
    {
     "data": {
      "text/plain": [
       "(61.29, 45.238, 91.81, 90.753)"
      ]
     },
     "execution_count": 6,
     "metadata": {},
     "output_type": "execute_result"
    }
   ],
   "source": [
    "tc = 100\n",
    "ac = None\n",
    "pc = None\n",
    "uy = False\n",
    "\n",
    "\n",
    "train['predicted'] = train.apply(\n",
    "    cutoff_algo, \n",
    "    title_cutoff = tc,\n",
    "    author_cutoff = ac,\n",
    "    publisher_cutoff = pc,\n",
    "    use_year = uy,\n",
    "    axis = 1\n",
    ")\n",
    "\n",
    "print(\"train\")\n",
    "get_metrics(train)\n",
    "\n",
    "test['predicted'] = test.apply(\n",
    "    cutoff_algo, \n",
    "    title_cutoff = tc,\n",
    "    author_cutoff = ac,\n",
    "    publisher_cutoff = pc,\n",
    "    use_year = uy,\n",
    "    axis = 1\n",
    ")\n",
    "\n",
    "print(\"test\")\n",
    "get_metrics(test)"
   ]
  },
  {
   "cell_type": "code",
   "execution_count": 7,
   "id": "5f1fcfdb",
   "metadata": {},
   "outputs": [
    {
     "name": "stdout",
     "output_type": "stream",
     "text": [
      "train\n",
      "Of all predicted true, 19.146% are correctly predicted true.\n",
      "Of all possible true, 25.858% are correctly predicted true.\n",
      "accuracy is 91.057\n",
      "Reduced data set by 93.412%\n",
      "test\n",
      "Of all predicted true, 74.194% are correctly predicted true.\n",
      "Of all possible true, 27.381% are correctly predicted true.\n",
      "accuracy is 90.885\n",
      "Reduced data set by 95.905%\n"
     ]
    },
    {
     "data": {
      "text/plain": [
       "(74.194, 27.381, 95.905, 90.885)"
      ]
     },
     "execution_count": 7,
     "metadata": {},
     "output_type": "execute_result"
    }
   ],
   "source": [
    "tc = 100\n",
    "ac = 100\n",
    "pc = None\n",
    "uy = False\n",
    "\n",
    "\n",
    "train['predicted'] = train.apply(\n",
    "    cutoff_algo, \n",
    "    title_cutoff = tc,\n",
    "    author_cutoff = ac,\n",
    "    publisher_cutoff = pc,\n",
    "    use_year = uy,\n",
    "    axis = 1\n",
    ")\n",
    "\n",
    "print(\"train\")\n",
    "get_metrics(train)\n",
    "\n",
    "test['predicted'] = test.apply(\n",
    "    cutoff_algo, \n",
    "    title_cutoff = tc,\n",
    "    author_cutoff = ac,\n",
    "    publisher_cutoff = pc,\n",
    "    use_year = uy,\n",
    "    axis = 1\n",
    ")\n",
    "\n",
    "print(\"test\")\n",
    "get_metrics(test)"
   ]
  },
  {
   "cell_type": "code",
   "execution_count": 8,
   "id": "5a7dd0a4",
   "metadata": {},
   "outputs": [
    {
     "name": "stdout",
     "output_type": "stream",
     "text": [
      "train\n",
      "Of all predicted true, 15.635% are correctly predicted true.\n",
      "Of all possible true, 5.631% are correctly predicted true.\n",
      "accuracy is 93.914\n",
      "Reduced data set by 98.243%\n",
      "test\n",
      "Of all predicted true, 75.0% are correctly predicted true.\n",
      "Of all possible true, 14.286% are correctly predicted true.\n",
      "accuracy is 89.96\n",
      "Reduced data set by 97.886%\n"
     ]
    },
    {
     "data": {
      "text/plain": [
       "(75.0, 14.286, 97.886, 89.96)"
      ]
     },
     "execution_count": 8,
     "metadata": {},
     "output_type": "execute_result"
    }
   ],
   "source": [
    "tc = 100\n",
    "ac = None\n",
    "pc = 100\n",
    "uy = False\n",
    "\n",
    "\n",
    "train['predicted'] = train.apply(\n",
    "    cutoff_algo, \n",
    "    title_cutoff = tc,\n",
    "    author_cutoff = ac,\n",
    "    publisher_cutoff = pc,\n",
    "    use_year = uy,\n",
    "    axis = 1\n",
    ")\n",
    "\n",
    "print(\"train\")\n",
    "get_metrics(train)\n",
    "\n",
    "test['predicted'] = test.apply(\n",
    "    cutoff_algo, \n",
    "    title_cutoff = tc,\n",
    "    author_cutoff = ac,\n",
    "    publisher_cutoff = pc,\n",
    "    use_year = uy,\n",
    "    axis = 1\n",
    ")\n",
    "\n",
    "print(\"test\")\n",
    "get_metrics(test)"
   ]
  },
  {
   "cell_type": "code",
   "execution_count": 5,
   "id": "dba90309",
   "metadata": {},
   "outputs": [
    {
     "name": "stdout",
     "output_type": "stream",
     "text": [
      "train\n",
      "Of all predicted true, 89.427% are correctly predicted true.\n",
      "Of all possible true, 28.461% are correctly predicted true.\n",
      "accuracy is 53.179%\n",
      "Reduced data set by 80.107%\n",
      "test\n",
      "Of all predicted true, 100.0% are correctly predicted true.\n",
      "Of all possible true, 27.381% are correctly predicted true.\n",
      "accuracy is 91.942%\n",
      "Reduced data set by 96.962%\n"
     ]
    },
    {
     "data": {
      "text/plain": [
       "(100.0, 27.381, 96.962, 91.942)"
      ]
     },
     "execution_count": 5,
     "metadata": {},
     "output_type": "execute_result"
    }
   ],
   "source": [
    "tc = 100\n",
    "ac = None\n",
    "pc = None\n",
    "uy = True\n",
    "\n",
    "\n",
    "train['predicted'] = train.apply(\n",
    "    cutoff_algo, \n",
    "    title_cutoff = tc,\n",
    "    author_cutoff = ac,\n",
    "    publisher_cutoff = pc,\n",
    "    use_year = uy,\n",
    "    axis = 1\n",
    ")\n",
    "\n",
    "print(\"train\")\n",
    "get_metrics(train)\n",
    "\n",
    "test['predicted'] = test.apply(\n",
    "    cutoff_algo, \n",
    "    title_cutoff = tc,\n",
    "    author_cutoff = ac,\n",
    "    publisher_cutoff = pc,\n",
    "    use_year = uy,\n",
    "    axis = 1\n",
    ")\n",
    "\n",
    "print(\"test\")\n",
    "get_metrics(test)"
   ]
  },
  {
   "cell_type": "code",
   "execution_count": 10,
   "id": "bfe82af7",
   "metadata": {},
   "outputs": [
    {
     "name": "stdout",
     "output_type": "stream",
     "text": [
      "train\n",
      "Of all predicted true, 28.748% are correctly predicted true.\n",
      "Of all possible true, 1.922% are correctly predicted true.\n",
      "accuracy is 94.983\n",
      "Reduced data set by 99.674%\n",
      "test\n",
      "Of all predicted true, 100.0% are correctly predicted true.\n",
      "Of all possible true, 7.143% are correctly predicted true.\n",
      "accuracy is 89.696\n",
      "Reduced data set by 99.207%\n"
     ]
    },
    {
     "data": {
      "text/plain": [
       "(100.0, 7.143, 99.207, 89.696)"
      ]
     },
     "execution_count": 10,
     "metadata": {},
     "output_type": "execute_result"
    }
   ],
   "source": [
    "tc = 100\n",
    "ac = 100\n",
    "pc = 100\n",
    "uy = True\n",
    "\n",
    "\n",
    "train['predicted'] = train.apply(\n",
    "    cutoff_algo, \n",
    "    title_cutoff = tc,\n",
    "    author_cutoff = ac,\n",
    "    publisher_cutoff = pc,\n",
    "    use_year = uy,\n",
    "    axis = 1\n",
    ")\n",
    "\n",
    "print(\"train\")\n",
    "get_metrics(train)\n",
    "\n",
    "test['predicted'] = test.apply(\n",
    "    cutoff_algo, \n",
    "    title_cutoff = tc,\n",
    "    author_cutoff = ac,\n",
    "    publisher_cutoff = pc,\n",
    "    use_year = uy,\n",
    "    axis = 1\n",
    ")\n",
    "\n",
    "print(\"test\")\n",
    "get_metrics(test)"
   ]
  },
  {
   "cell_type": "code",
   "execution_count": 7,
   "id": "659a4d62",
   "metadata": {},
   "outputs": [
    {
     "name": "stdout",
     "output_type": "stream",
     "text": [
      "train\n",
      "Of all predicted true, 85.905% are correctly predicted true.\n",
      "Of all possible true, 54.829% are correctly predicted true.\n",
      "accuracy is 66.142%\n",
      "Reduced data set by 60.104%\n",
      "test\n",
      "Of all predicted true, 100.0% are correctly predicted true.\n",
      "Of all possible true, 45.238% are correctly predicted true.\n",
      "accuracy is 93.923%\n",
      "Reduced data set by 94.98%\n"
     ]
    },
    {
     "data": {
      "text/plain": [
       "(100.0, 45.238, 94.98, 93.923)"
      ]
     },
     "execution_count": 7,
     "metadata": {},
     "output_type": "execute_result"
    }
   ],
   "source": [
    "tc = 95\n",
    "ac = None\n",
    "pc = None\n",
    "uy = True\n",
    "\n",
    "\n",
    "train['predicted'] = train.apply(\n",
    "    cutoff_algo, \n",
    "    title_cutoff = tc,\n",
    "    author_cutoff = ac,\n",
    "    publisher_cutoff = pc,\n",
    "    use_year = uy,\n",
    "    axis = 1\n",
    ")\n",
    "\n",
    "print(\"train\")\n",
    "get_metrics(train)\n",
    "\n",
    "test['predicted'] = test.apply(\n",
    "    cutoff_algo, \n",
    "    title_cutoff = tc,\n",
    "    author_cutoff = ac,\n",
    "    publisher_cutoff = pc,\n",
    "    use_year = uy,\n",
    "    axis = 1\n",
    ")\n",
    "\n",
    "print(\"test\")\n",
    "get_metrics(test)"
   ]
  },
  {
   "cell_type": "code",
   "execution_count": 6,
   "id": "3003c7f0",
   "metadata": {},
   "outputs": [
    {
     "name": "stdout",
     "output_type": "stream",
     "text": [
      "train\n",
      "Of all predicted true, 82.062% are correctly predicted true.\n",
      "Of all possible true, 3.387% are correctly predicted true.\n",
      "accuracy is 39.147%\n",
      "Reduced data set by 97.42%\n",
      "test\n",
      "Of all predicted true, 100.0% are correctly predicted true.\n",
      "Of all possible true, 7.143% are correctly predicted true.\n",
      "accuracy is 89.696%\n",
      "Reduced data set by 99.207%\n"
     ]
    },
    {
     "data": {
      "text/plain": [
       "(100.0, 7.143, 99.207, 89.696)"
      ]
     },
     "execution_count": 6,
     "metadata": {},
     "output_type": "execute_result"
    }
   ],
   "source": [
    "tc = 95\n",
    "ac = 90\n",
    "pc = 90\n",
    "uy = True\n",
    "\n",
    "\n",
    "train['predicted'] = train.apply(\n",
    "    cutoff_algo, \n",
    "    title_cutoff = tc,\n",
    "    author_cutoff = ac,\n",
    "    publisher_cutoff = pc,\n",
    "    use_year = uy,\n",
    "    axis = 1\n",
    ")\n",
    "\n",
    "print(\"train\")\n",
    "get_metrics(train)\n",
    "\n",
    "test['predicted'] = test.apply(\n",
    "    cutoff_algo, \n",
    "    title_cutoff = tc,\n",
    "    author_cutoff = ac,\n",
    "    publisher_cutoff = pc,\n",
    "    use_year = uy,\n",
    "    axis = 1\n",
    ")\n",
    "\n",
    "print(\"test\")\n",
    "get_metrics(test)"
   ]
  },
  {
   "cell_type": "code",
   "execution_count": 37,
   "id": "3293adde",
   "metadata": {},
   "outputs": [],
   "source": [
    "test.to_csv(\"investigation.csv\", index=False)"
   ]
  },
  {
   "cell_type": "code",
   "execution_count": 24,
   "id": "064b8bac-3989-43e9-bfbb-ef671669a66a",
   "metadata": {
    "tags": []
   },
   "outputs": [
    {
     "name": "stdout",
     "output_type": "stream",
     "text": [
      "Of all predicted true, 24.894% are correctly predicted true.\n",
      "Of all possible true, 85.81% are correctly predicted true.\n",
      "Reduced data set by 83.185%\n"
     ]
    },
    {
     "data": {
      "text/plain": [
       "(24.894, 85.81, 83.185)"
      ]
     },
     "execution_count": 24,
     "metadata": {},
     "output_type": "execute_result"
    }
   ],
   "source": [
    "test['predicted'] = test.apply(\n",
    "    cutoff_algo, \n",
    "    title_cutoff = 95,\n",
    "    author_cutoff = None,\n",
    "    publisher_cutoff = None,\n",
    "    use_year = True,\n",
    "    axis = 1\n",
    ")\n",
    "\n",
    "get_metrics(test)"
   ]
  },
  {
   "cell_type": "code",
   "execution_count": 25,
   "id": "3099d234-a3f1-4480-ac27-c900107061e2",
   "metadata": {
    "tags": []
   },
   "outputs": [
    {
     "name": "stdout",
     "output_type": "stream",
     "text": [
      "Of all predicted true, 25.295% are correctly predicted true.\n",
      "Of all possible true, 54.223% are correctly predicted true.\n",
      "Reduced data set by 89.543%\n"
     ]
    },
    {
     "data": {
      "text/plain": [
       "(25.295, 54.223, 89.543)"
      ]
     },
     "execution_count": 25,
     "metadata": {},
     "output_type": "execute_result"
    }
   ],
   "source": [
    "train['predicted'] = train.apply(\n",
    "    cutoff_algo, \n",
    "    title_cutoff = 97,\n",
    "    author_cutoff = 95,\n",
    "    publisher_cutoff = None,\n",
    "    use_year = False,\n",
    "    axis = 1\n",
    ")\n",
    "\n",
    "get_metrics(train)"
   ]
  },
  {
   "cell_type": "code",
   "execution_count": 26,
   "id": "a0a9bb3a-2641-4b45-8741-50538c610946",
   "metadata": {
    "tags": []
   },
   "outputs": [
    {
     "name": "stdout",
     "output_type": "stream",
     "text": [
      "Of all predicted true, 34.954% are correctly predicted true.\n",
      "Of all possible true, 47.741% are correctly predicted true.\n",
      "Reduced data set by 93.338%\n"
     ]
    },
    {
     "data": {
      "text/plain": [
       "(34.954, 47.741, 93.338)"
      ]
     },
     "execution_count": 26,
     "metadata": {},
     "output_type": "execute_result"
    }
   ],
   "source": [
    "train['predicted'] = train.apply(\n",
    "    cutoff_algo, \n",
    "    title_cutoff = 97,\n",
    "    author_cutoff = 80,\n",
    "    publisher_cutoff = 50,\n",
    "    use_year = False,\n",
    "    axis = 1\n",
    ")\n",
    "\n",
    "get_metrics(train)"
   ]
  },
  {
   "cell_type": "code",
   "execution_count": 27,
   "id": "64fcec18-2e24-44b5-bf78-9cd92e8848f5",
   "metadata": {
    "tags": []
   },
   "outputs": [
    {
     "name": "stdout",
     "output_type": "stream",
     "text": [
      "Of all predicted true, 50.608% are correctly predicted true.\n",
      "Of all possible true, 31.833% are correctly predicted true.\n",
      "Reduced data set by 96.932%\n"
     ]
    },
    {
     "data": {
      "text/plain": [
       "(50.608, 31.833, 96.932)"
      ]
     },
     "execution_count": 27,
     "metadata": {},
     "output_type": "execute_result"
    }
   ],
   "source": [
    "train['predicted'] = train.apply(\n",
    "    cutoff_algo, \n",
    "    title_cutoff = 97,\n",
    "    author_cutoff = 80,\n",
    "    publisher_cutoff = 50,\n",
    "    use_year = True,\n",
    "    axis = 1\n",
    ")\n",
    "\n",
    "get_metrics(train)"
   ]
  },
  {
   "cell_type": "code",
   "execution_count": 28,
   "id": "96bf31cd-9729-492c-b49d-085b87669397",
   "metadata": {
    "tags": []
   },
   "outputs": [
    {
     "name": "stdout",
     "output_type": "stream",
     "text": [
      "Of all predicted true, 50.809% are correctly predicted true.\n",
      "Of all possible true, 42.19% are correctly predicted true.\n",
      "Reduced data set by 95.949%\n"
     ]
    },
    {
     "data": {
      "text/plain": [
       "(50.809, 42.19, 95.949)"
      ]
     },
     "execution_count": 28,
     "metadata": {},
     "output_type": "execute_result"
    }
   ],
   "source": [
    "train['predicted'] = train.apply(\n",
    "    cutoff_algo, \n",
    "    title_cutoff = 95,\n",
    "    author_cutoff = 70,\n",
    "    publisher_cutoff = 30,\n",
    "    use_year = True,\n",
    "    axis = 1\n",
    ")\n",
    "\n",
    "get_metrics(train)"
   ]
  },
  {
   "cell_type": "code",
   "execution_count": 29,
   "id": "328e8558-adba-4415-b9a7-648376ff7642",
   "metadata": {
    "tags": []
   },
   "outputs": [
    {
     "name": "stdout",
     "output_type": "stream",
     "text": [
      "Of all predicted true, 49.234% are correctly predicted true.\n",
      "Of all possible true, 50.459% are correctly predicted true.\n",
      "Reduced data set by 95.001%\n"
     ]
    },
    {
     "data": {
      "text/plain": [
       "(49.234, 50.459, 95.001)"
      ]
     },
     "execution_count": 29,
     "metadata": {},
     "output_type": "execute_result"
    }
   ],
   "source": [
    "train['predicted'] = train.apply(\n",
    "    cutoff_algo, \n",
    "    title_cutoff = 95,\n",
    "    author_cutoff = 50,\n",
    "    publisher_cutoff = None,\n",
    "    use_year = True,\n",
    "    axis = 1\n",
    ")\n",
    "\n",
    "get_metrics(train)"
   ]
  },
  {
   "cell_type": "code",
   "execution_count": 30,
   "id": "2ddbb03e-906d-4e6d-923d-376507603c4d",
   "metadata": {
    "tags": []
   },
   "outputs": [
    {
     "name": "stdout",
     "output_type": "stream",
     "text": [
      "Of all predicted true, 49.37% are correctly predicted true.\n",
      "Of all possible true, 54.829% are correctly predicted true.\n",
      "Reduced data set by 94.583%\n"
     ]
    },
    {
     "data": {
      "text/plain": [
       "(49.37, 54.829, 94.583)"
      ]
     },
     "execution_count": 30,
     "metadata": {},
     "output_type": "execute_result"
    }
   ],
   "source": [
    "train['predicted'] = train.apply(\n",
    "    cutoff_algo, \n",
    "    title_cutoff = 95,\n",
    "    author_cutoff = None,\n",
    "    publisher_cutoff = None,\n",
    "    use_year = True,\n",
    "    axis = 1\n",
    ")\n",
    "\n",
    "get_metrics(train)"
   ]
  },
  {
   "cell_type": "code",
   "execution_count": 31,
   "id": "ef4357f4-e6ef-4e23-9beb-0478ee8b3e5a",
   "metadata": {
    "tags": []
   },
   "outputs": [
    {
     "name": "stdout",
     "output_type": "stream",
     "text": [
      "Of all predicted true, 49.522% are correctly predicted true.\n",
      "Of all possible true, 54.708% are correctly predicted true.\n",
      "Reduced data set by 94.611%\n"
     ]
    },
    {
     "data": {
      "text/plain": [
       "(49.522, 54.708, 94.611)"
      ]
     },
     "execution_count": 31,
     "metadata": {},
     "output_type": "execute_result"
    }
   ],
   "source": [
    "train['predicted'] = train.apply(\n",
    "    cutoff_algo, \n",
    "    title_cutoff = 95,\n",
    "    author_cutoff = 10,\n",
    "    publisher_cutoff = 10,\n",
    "    use_year = True,\n",
    "    axis = 1\n",
    ")\n",
    "\n",
    "get_metrics(train)"
   ]
  },
  {
   "cell_type": "code",
   "execution_count": 32,
   "id": "48e8cd44-d991-40b4-9450-165bf65d1a4b",
   "metadata": {
    "tags": []
   },
   "outputs": [
    {
     "name": "stdout",
     "output_type": "stream",
     "text": [
      "Of all predicted true, 47.938% are correctly predicted true.\n",
      "Of all possible true, 36.735% are correctly predicted true.\n",
      "Reduced data set by 96.262%\n"
     ]
    },
    {
     "data": {
      "text/plain": [
       "(47.938, 36.735, 96.262)"
      ]
     },
     "execution_count": 32,
     "metadata": {},
     "output_type": "execute_result"
    }
   ],
   "source": [
    "train['predicted'] = train.apply(\n",
    "    cutoff_algo, \n",
    "    title_cutoff = 97,\n",
    "    author_cutoff = 90,\n",
    "    publisher_cutoff = 20,\n",
    "    use_year = True,\n",
    "    axis = 1\n",
    ")\n",
    "\n",
    "get_metrics(train)"
   ]
  },
  {
   "cell_type": "code",
   "execution_count": 33,
   "id": "02e33024-6006-423d-b607-251477f9606c",
   "metadata": {
    "tags": []
   },
   "outputs": [
    {
     "name": "stdout",
     "output_type": "stream",
     "text": [
      "Of all predicted true, 66.667% are correctly predicted true.\n",
      "Of all possible true, 41.667% are correctly predicted true.\n",
      "Reduced data set by 96.037%\n"
     ]
    },
    {
     "data": {
      "text/plain": [
       "(66.667, 41.667, 96.037)"
      ]
     },
     "execution_count": 33,
     "metadata": {},
     "output_type": "execute_result"
    }
   ],
   "source": [
    "test['predicted'] = test.apply(\n",
    "    cutoff_algo, \n",
    "    title_cutoff = 95,\n",
    "    author_cutoff = 70,\n",
    "    publisher_cutoff = 30,\n",
    "    use_year = True,\n",
    "    axis = 1\n",
    ")\n",
    "\n",
    "get_metrics(test)"
   ]
  },
  {
   "cell_type": "code",
   "execution_count": 34,
   "id": "d90c27b6-bc27-4f34-b26b-9e9f804c7df8",
   "metadata": {
    "tags": []
   },
   "outputs": [
    {
     "name": "stdout",
     "output_type": "stream",
     "text": [
      "Of all predicted true, 65.789% are correctly predicted true.\n",
      "Of all possible true, 52.083% are correctly predicted true.\n",
      "Reduced data set by 94.98%\n"
     ]
    },
    {
     "data": {
      "text/plain": [
       "(65.789, 52.083, 94.98)"
      ]
     },
     "execution_count": 34,
     "metadata": {},
     "output_type": "execute_result"
    }
   ],
   "source": [
    "test['predicted'] = test.apply(\n",
    "    cutoff_algo, \n",
    "    title_cutoff = 95,\n",
    "    author_cutoff = 10,\n",
    "    publisher_cutoff = 10,\n",
    "    use_year = True,\n",
    "    axis = 1\n",
    ")\n",
    "\n",
    "get_metrics(test)"
   ]
  },
  {
   "cell_type": "code",
   "execution_count": 35,
   "id": "c4a7cdcf-036f-45ec-bdd8-99f28f28f2c5",
   "metadata": {
    "tags": []
   },
   "outputs": [
    {
     "name": "stdout",
     "output_type": "stream",
     "text": [
      "Of all predicted true, 21.393% are correctly predicted true.\n",
      "Of all possible true, 89.583% are correctly predicted true.\n",
      "Reduced data set by 73.448%\n"
     ]
    },
    {
     "data": {
      "text/plain": [
       "(21.393, 89.583, 73.448)"
      ]
     },
     "execution_count": 35,
     "metadata": {},
     "output_type": "execute_result"
    }
   ],
   "source": [
    "test['predicted'] = test.apply(\n",
    "    cutoff_algo, \n",
    "    title_cutoff = 60,\n",
    "    author_cutoff = None,\n",
    "    publisher_cutoff = None,\n",
    "    use_year = False,\n",
    "    axis = 1\n",
    ")\n",
    "\n",
    "get_metrics(test)"
   ]
  },
  {
   "cell_type": "code",
   "execution_count": 36,
   "id": "d6c2b0c8-0e56-4cc0-b18f-4267fc8097f3",
   "metadata": {
    "tags": []
   },
   "outputs": [
    {
     "name": "stdout",
     "output_type": "stream",
     "text": [
      "Of all predicted true, 11.523% are correctly predicted true.\n",
      "Of all possible true, 95.511% are correctly predicted true.\n",
      "Reduced data set by 59.568%\n"
     ]
    },
    {
     "data": {
      "text/plain": [
       "(11.523, 95.511, 59.568)"
      ]
     },
     "execution_count": 36,
     "metadata": {},
     "output_type": "execute_result"
    }
   ],
   "source": [
    "train['predicted'] = train.apply(\n",
    "    cutoff_algo, \n",
    "    title_cutoff = 50,\n",
    "    author_cutoff = None,\n",
    "    publisher_cutoff = None,\n",
    "    use_year = False,\n",
    "    axis = 1\n",
    ")\n",
    "\n",
    "get_metrics(train)"
   ]
  },
  {
   "cell_type": "code",
   "execution_count": 37,
   "id": "92425124-fce6-4c6c-a384-2da8e4d54555",
   "metadata": {
    "tags": []
   },
   "outputs": [
    {
     "name": "stdout",
     "output_type": "stream",
     "text": [
      "Of all predicted true, 23.531% are correctly predicted true.\n",
      "Of all possible true, 87.793% are correctly predicted true.\n",
      "Reduced data set by 81.8%\n"
     ]
    },
    {
     "data": {
      "text/plain": [
       "(23.531, 87.793, 81.8)"
      ]
     },
     "execution_count": 37,
     "metadata": {},
     "output_type": "execute_result"
    }
   ],
   "source": [
    "train['predicted'] = train.apply(\n",
    "    cutoff_algo, \n",
    "    title_cutoff = 90,\n",
    "    author_cutoff = None,\n",
    "    publisher_cutoff = None,\n",
    "    use_year = False,\n",
    "    axis = 1\n",
    ")\n",
    "\n",
    "get_metrics(train)"
   ]
  },
  {
   "cell_type": "code",
   "execution_count": 38,
   "id": "2629c7e9-8bdf-44c6-b26b-aedc239a7f56",
   "metadata": {
    "tags": []
   },
   "outputs": [],
   "source": [
    "train.query(\"predicted == 0 and citebook_match == 1\").to_csv('golden_set_predicted.csv')\n"
   ]
  },
  {
   "cell_type": "code",
   "execution_count": 12,
   "id": "9402927e",
   "metadata": {},
   "outputs": [
    {
     "data": {
      "text/plain": [
       "count    64159.000000\n",
       "mean        94.168160\n",
       "std         14.878291\n",
       "min          9.000000\n",
       "25%         99.000000\n",
       "50%         99.000000\n",
       "75%        100.000000\n",
       "max        100.000000\n",
       "Name: title_match, dtype: float64"
      ]
     },
     "execution_count": 12,
     "metadata": {},
     "output_type": "execute_result"
    }
   ],
   "source": [
    "train.query('citebook_match == 1').title_match.describe()"
   ]
  },
  {
   "cell_type": "code",
   "execution_count": 11,
   "id": "47cb00a0-3982-439a-9455-ba1b1f4859e5",
   "metadata": {},
   "outputs": [
    {
     "data": {
      "text/plain": [
       "count    50121.000000\n",
       "mean        86.502304\n",
       "std         20.216504\n",
       "min          0.000000\n",
       "25%         75.000000\n",
       "50%        100.000000\n",
       "75%        100.000000\n",
       "max        100.000000\n",
       "Name: author_sort, dtype: float64"
      ]
     },
     "execution_count": 11,
     "metadata": {},
     "output_type": "execute_result"
    }
   ],
   "source": [
    "train.query('citebook_match == 1').author_sort.describe()"
   ]
  },
  {
   "cell_type": "code",
   "execution_count": 13,
   "id": "51ff9f8c",
   "metadata": {},
   "outputs": [
    {
     "data": {
      "text/plain": [
       "count    61578.000000\n",
       "mean        88.481763\n",
       "std         21.740961\n",
       "min          0.000000\n",
       "25%         88.000000\n",
       "50%        100.000000\n",
       "75%        100.000000\n",
       "max        100.000000\n",
       "Name: publisher_match_partial, dtype: float64"
      ]
     },
     "execution_count": 13,
     "metadata": {},
     "output_type": "execute_result"
    }
   ],
   "source": [
    "train.query('citebook_match == 1').publisher_match_partial.describe()"
   ]
  },
  {
   "cell_type": "code",
   "execution_count": null,
   "id": "f5f1d20a",
   "metadata": {},
   "outputs": [],
   "source": []
  }
 ],
 "metadata": {
  "kernelspec": {
   "display_name": "Python 3 (ipykernel)",
   "language": "python",
   "name": "python3"
  },
  "language_info": {
   "codemirror_mode": {
    "name": "ipython",
    "version": 3
   },
   "file_extension": ".py",
   "mimetype": "text/x-python",
   "name": "python",
   "nbconvert_exporter": "python",
   "pygments_lexer": "ipython3",
   "version": "3.11.0"
  }
 },
 "nbformat": 4,
 "nbformat_minor": 5
}
